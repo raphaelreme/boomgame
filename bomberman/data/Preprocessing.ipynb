{
 "cells": [
  {
   "cell_type": "markdown",
   "id": "2c8c32fe",
   "metadata": {},
   "source": [
    "### Preprocess tiles"
   ]
  },
  {
   "cell_type": "code",
   "execution_count": null,
   "id": "b6ed9fee",
   "metadata": {},
   "outputs": [],
   "source": [
    "import numpy as np\n",
    "from PIL import Image\n",
    "import matplotlib.pyplot as plt"
   ]
  },
  {
   "cell_type": "code",
   "execution_count": null,
   "id": "ee69ee51",
   "metadata": {},
   "outputs": [],
   "source": [
    "# Background\n",
    "\n",
    "# Some styles are ignored\n",
    "images = [Image.open(f\"original/BOOM Graphics/BGPattern 0{i+2}.png\").convert(\"RGBA\") for i in range(8)]\n",
    "image = Image.fromarray(np.vstack(images))\n",
    "image.save(\"image/background.png\")\n",
    "\n",
    "plt.imshow(image)\n",
    "plt.show()"
   ]
  },
  {
   "cell_type": "code",
   "execution_count": null,
   "id": "cda560a7",
   "metadata": {},
   "outputs": [],
   "source": [
    "# Border\n",
    "\n",
    "images = [Image.open(f\"original/BOOM Graphics/Border 0{i+1}.png\").convert(\"RGBA\") for i in range(8)]\n",
    "image = Image.fromarray(np.vstack(images))\n",
    "image.save(\"image/border.png\")\n",
    "\n",
    "plt.imshow(image)\n",
    "plt.show()"
   ]
  },
  {
   "cell_type": "code",
   "execution_count": null,
   "id": "0a70c738",
   "metadata": {},
   "outputs": [],
   "source": [
    "# Breakable\n",
    "\n",
    "image = Image.open(f\"original/BOOM Graphics/Breakable Blocks.png\").convert(\"RGBA\")\n",
    "image.save(\"image/breakable_wall.png\")\n",
    "\n",
    "plt.imshow(image)\n",
    "plt.show()"
   ]
  },
  {
   "cell_type": "code",
   "execution_count": null,
   "id": "d0888278",
   "metadata": {},
   "outputs": [],
   "source": [
    "# Solid\n",
    "\n",
    "image = Image.open(f\"original/BOOM Graphics/Fixed Blocks.png\").convert(\"RGBA\")\n",
    "image = Image.fromarray(np.vstack(np.split(np.array(image), 8, axis = 1)))\n",
    "image.save(\"image/solid_wall.png\")\n",
    "\n",
    "plt.imshow(image)\n",
    "plt.show()"
   ]
  },
  {
   "cell_type": "code",
   "execution_count": null,
   "id": "f493e370",
   "metadata": {},
   "outputs": [],
   "source": [
    "# Player\n",
    "\n",
    "void = np.array([[[255, 255, 255, 0]] * 32] * 32, dtype=np.uint8)\n",
    "\n",
    "for i in range(2):\n",
    "    image = Image.open(f\"original/BOOM Graphics/Player{i+1}.png\").convert(\"RGBA\")\n",
    "    line = np.hstack(np.split(np.array(image), 2) + [void] * 2)\n",
    "    image = Image.fromarray(np.vstack(np.split(line, 5, axis = 1)))\n",
    "    image.save(f\"image/player{i+1}.png\")\n",
    "\n",
    "    plt.imshow(image)\n",
    "    plt.show()"
   ]
  },
  {
   "cell_type": "code",
   "execution_count": null,
   "id": "5c080cff",
   "metadata": {},
   "outputs": [],
   "source": [
    "# Bomb\n",
    "\n",
    "image = Image.open(\"original/BOOM Graphics/Bomb.png\")\n",
    "image.save(\"image/bomb.png\")\n",
    "\n",
    "plt.imshow(image)\n",
    "plt.show()"
   ]
  },
  {
   "cell_type": "code",
   "execution_count": null,
   "id": "32fb285e",
   "metadata": {},
   "outputs": [],
   "source": [
    "# Laser\n",
    "\n",
    "image = Image.open(\"original/BOOM Graphics/Explosion.png\")\n",
    "image.save(\"image/laser.png\")\n",
    "\n",
    "plt.imshow(image)\n",
    "plt.show()"
   ]
  },
  {
   "cell_type": "code",
   "execution_count": null,
   "id": "adf8e9e9",
   "metadata": {},
   "outputs": [],
   "source": [
    "# Teleporter\n",
    "\n",
    "image = Image.open(\"original/BOOM Graphics/Teleporter.png\")\n",
    "image.save(\"image/teleporter.png\")\n",
    "\n",
    "plt.imshow(image)\n",
    "plt.show()"
   ]
  },
  {
   "cell_type": "code",
   "execution_count": null,
   "id": "b7141cb4",
   "metadata": {},
   "outputs": [],
   "source": [
    "# Coin\n",
    "\n",
    "image = Image.open(\"original/BOOM Graphics/Coin.png\")\n",
    "image.save(\"image/coin.png\")\n",
    "\n",
    "plt.imshow(image)\n",
    "plt.show()"
   ]
  },
  {
   "cell_type": "code",
   "execution_count": null,
   "id": "6d187f00",
   "metadata": {},
   "outputs": [],
   "source": [
    "# Flash\n",
    "\n",
    "image = Image.open(\"original/BOOM Graphics/Flash.png\")\n",
    "image.save(\"image/flash.png\")\n",
    "\n",
    "plt.imshow(image)\n",
    "plt.show()"
   ]
  },
  {
   "cell_type": "code",
   "execution_count": null,
   "id": "1fda9514",
   "metadata": {},
   "outputs": [],
   "source": [
    "# Enemy\n",
    "\n",
    "void = np.array([[[255, 255, 255, 0]] * 32] * 32, dtype=np.uint8)\n",
    "\n",
    "for name in [\"Soldier\", \"Sarge\", \"Lizzy\", \"Taur\", \"Gunner\", \"Thing\", \"Ghost\", \"Smoulder\", \"Skully\", \"Giggler\"]:\n",
    "    image = Image.open(f\"original/BOOM Graphics/{name}.png\").convert(\"RGBA\")\n",
    "    line = np.hstack(np.split(np.array(image), 2))\n",
    "    n = line.shape[1] // 32\n",
    "    if n%4:\n",
    "        line = np.hstack([line] + (4 - (n%4)) * [void])\n",
    "\n",
    "    image = Image.fromarray(np.vstack(np.split(line, 6, axis = 1)))\n",
    "    image.save(f\"image/{name.lower()}.png\")\n",
    "    \n",
    "    plt.imshow(image)\n",
    "    plt.show()"
   ]
  },
  {
   "cell_type": "code",
   "execution_count": null,
   "id": "c60a6447",
   "metadata": {},
   "outputs": [],
   "source": [
    "# Alien\n",
    "\n",
    "void = np.array([[[255, 255, 255, 0]] * 32] * 32, dtype=np.uint8)\n",
    "\n",
    "image = Image.open(\"original/BOOM Graphics/Alien Frames.png\").convert(\"RGBA\")\n",
    "line = np.hstack(np.split(np.array(image), 2))\n",
    "n = line.shape[1] // 32\n",
    "if n%4:\n",
    "    line = np.hstack([line] + (4 - (n%4)) * [void])\n",
    "\n",
    "image = Image.fromarray(np.vstack(np.split(line, 5, axis = 1)))\n",
    "image.save(f\"image/alien.png\")\n",
    "\n",
    "plt.imshow(image)\n",
    "plt.show()"
   ]
  },
  {
   "cell_type": "code",
   "execution_count": null,
   "id": "ab2730ff",
   "metadata": {},
   "outputs": [],
   "source": [
    "# Bullet\n",
    "\n",
    "void = np.array([[[255, 255, 255, 0]] * 32] * 32, dtype=np.uint8)\n",
    "\n",
    "# Extracted by hand\n",
    "bullet_rect = {\n",
    "    \"Shot\": [(0, 0, 7, 7)] + [(0, 0, 26, 24)] * 4,\n",
    "    \"Fireball\": [(0, 0, 13, 13)] + [(0, 0, 32, 32)] * 4,\n",
    "    \"MGShot\": [(0, 0, 10, 7)] + [(1, 1, 21, 21)] * 5,\n",
    "    \"Lightbolt\": [(0, 0, 13, 13)] + [(0, 0, 32, 32)] * 4,\n",
    "    \"Flame\": [(0, 0, 13 + 4 * i, 32) for i in range(5)],\n",
    "    \"Plasma\": [(0, 0, 13, 13)] + [(0, 0, 32, 32)] * 4,\n",
    "    \"Magma\": [(0, 0, 26, 26)] + [(0, 0, 32, 32)] * 4,\n",
    "}\n",
    "\n",
    "for name in bullet_rect:\n",
    "    image = np.array(Image.open(f\"original/BOOM Graphics/{name}.png\").convert(\"RGBA\"))\n",
    "    n = image.shape[1] // 32\n",
    "\n",
    "    line = np.split(image, n, axis=1)\n",
    "    if len(line) > 5 and not name == \"Flame\": # There is direction in images, not needed\n",
    "        line = [line[0]] + line[4:]  # Down + explosion\n",
    "    centered_images = []\n",
    "    for image, (i, j, h, w) in zip(line, bullet_rect[name]):\n",
    "        true_bullet = image[i: i + h, j: j + w]\n",
    "        centered_image = void.copy()\n",
    "        i = int(16 - h / 2)\n",
    "        j = int(16 - w / 2)\n",
    "        centered_image[i: i + h, j: j + w] = true_bullet\n",
    "        centered_images.append(centered_image)\n",
    "\n",
    "    image = np.hstack(centered_images)\n",
    "    Image.fromarray(image).save(f\"image/{name.lower()}.png\")\n",
    "\n",
    "    plt.imshow(image)\n",
    "    plt.show()"
   ]
  },
  {
   "cell_type": "code",
   "execution_count": null,
   "id": "7cf309f9",
   "metadata": {},
   "outputs": [],
   "source": [
    "# Head Boss\n",
    "\n",
    "image = Image.open(f\"original/BOOM Graphics/Head Boss.png\")\n",
    "image.save(\"image/head.png\")\n",
    "\n",
    "plt.imshow(image)\n",
    "plt.show()"
   ]
  },
  {
   "cell_type": "code",
   "execution_count": null,
   "id": "12ec6500",
   "metadata": {},
   "outputs": [],
   "source": [
    "# Head Missile\n",
    "\n",
    "rect = [(0, 0, 20, 20)] + [(0, 0, 18, 18)] + [(0, 0, 32, 32)] * 5\n",
    "void = np.array([[[255, 255, 255, 0]] * 32] * 32, dtype=np.uint8)\n",
    "\n",
    "image = np.array(Image.open(f\"original/BOOM Graphics/Head Missile.png\"))\n",
    "n = image.shape[1] // 32\n",
    "\n",
    "line = np.split(image, n, axis=1)\n",
    "\n",
    "centered_images = []\n",
    "for image, (i, j, h, w) in zip(line, rect):\n",
    "    true_bullet = image[i: i + h, j: j + w]\n",
    "    centered_image = void.copy()\n",
    "    i = int(16 - h / 2)\n",
    "    j = int(16 - w / 2)\n",
    "    centered_image[i: i + h, j: j + w] = true_bullet\n",
    "    centered_images.append(centered_image)\n",
    "\n",
    "image = np.hstack(centered_images)\n",
    "Image.fromarray(image).save(\"image/missile.png\")\n",
    "\n",
    "plt.imshow(image)\n",
    "plt.show()"
   ]
  },
  {
   "cell_type": "code",
   "execution_count": null,
   "id": "fb39bf90",
   "metadata": {},
   "outputs": [],
   "source": [
    "# Panel\n",
    "\n",
    "image = Image.open(\"original/BOOM Graphics/Panel.png\")\n",
    "image.save(\"image/panel.png\")\n",
    "print(image.size, \" -> \", image.size[0] // 32, \",\", image.size[1] // 32)\n",
    "\n",
    "plt.imshow(image)\n",
    "plt.show()"
   ]
  },
  {
   "cell_type": "code",
   "execution_count": null,
   "id": "ae0d8bef",
   "metadata": {},
   "outputs": [],
   "source": [
    "# Player head\n",
    "\n",
    "for i in range(2):\n",
    "    image = Image.open(f\"original/BOOM Graphics/Player {i+1} Head.png\").convert(\"RGBA\")\n",
    "    image.save(f\"image/player_head{i+1}.png\")\n",
    "    print(image.size)\n",
    "    \n",
    "    plt.imshow(image)\n",
    "    plt.show()"
   ]
  },
  {
   "cell_type": "code",
   "execution_count": null,
   "id": "e9a71bb3",
   "metadata": {},
   "outputs": [],
   "source": [
    "# Heart\n",
    "\n",
    "image = Image.open(\"original/BOOM Graphics/Heart Icons.png\").convert(\"RGBA\")\n",
    "np_image = np.array(image)[0:16]\n",
    "image = Image.fromarray(np.hstack((np_image[:, 0:16], np_image[:, 18:34], np_image[:, 36:52])))  # Delete weird extra space\n",
    "image.save(\"image/heart.png\")\n",
    "\n",
    "plt.imshow(image)\n",
    "plt.show()"
   ]
  },
  {
   "cell_type": "code",
   "execution_count": null,
   "id": "9f0d6d12",
   "metadata": {},
   "outputs": [],
   "source": [
    "# Extra icons\n",
    "\n",
    "image = np.array(Image.open(\"original/BOOM Graphics/EXTRA Icons.png\"))\n",
    "images = np.split(image[0:13], 6, axis=1)\n",
    "image = np.hstack([image[:, :13] for image in images])\n",
    "\n",
    "Image.fromarray(image).save(\"image/extra_icons.png\")\n",
    "\n",
    "plt.imshow(image)\n",
    "plt.show()"
   ]
  },
  {
   "cell_type": "code",
   "execution_count": null,
   "id": "3e521bee",
   "metadata": {},
   "outputs": [],
   "source": [
    "# Bonus icons\n",
    "\n",
    "image = np.array(Image.open(\"original/BOOM Graphics/Bonus Icons.png\"))\n",
    "\n",
    "images = np.split(image, 2)\n",
    "image = np.vstack([image[:13, :] for image in images])\n",
    "\n",
    "images = np.split(image, 5, axis=1)\n",
    "image = np.hstack([image[:, :13] for image in images])\n",
    "\n",
    "Image.fromarray(image).save(\"image/bonus_icons.png\")\n",
    "\n",
    "plt.imshow(image)\n",
    "plt.show()"
   ]
  },
  {
   "cell_type": "code",
   "execution_count": null,
   "id": "0d4b47f8",
   "metadata": {},
   "outputs": [],
   "source": [
    "# Extra letters\n",
    "\n",
    "image = np.array(Image.open(\"original/BOOM Graphics/EXTRA Letters.png\"))\n",
    "image = np.hstack(np.split(image, 2))\n",
    "image = np.vstack(np.split(image, 5, axis=1))\n",
    "\n",
    "Image.fromarray(image).save(\"image/extra_letters.png\")\n",
    "\n",
    "plt.imshow(image)\n",
    "plt.show()"
   ]
  },
  {
   "cell_type": "code",
   "execution_count": null,
   "id": "dc428f35",
   "metadata": {},
   "outputs": [],
   "source": [
    "# Bonuses\n",
    "\n",
    "image = Image.open(\"original/BOOM Graphics/Bonuses.png\")\n",
    "image.save(\"image/bonuses.png\")\n",
    "\n",
    "plt.imshow(image)\n",
    "plt.show()"
   ]
  },
  {
   "cell_type": "code",
   "execution_count": null,
   "id": "3e1846c4",
   "metadata": {},
   "outputs": [],
   "source": [
    "# Shield\n",
    "\n",
    "image = Image.open(f\"original/BOOM Graphics/Shield.png\").convert(\"RGBA\")\n",
    "image.save(f\"image/shield.png\")\n",
    "\n",
    "plt.imshow(image)\n",
    "plt.show()"
   ]
  },
  {
   "cell_type": "code",
   "execution_count": null,
   "id": "cb571c4c",
   "metadata": {},
   "outputs": [],
   "source": [
    "# Game over slider\n",
    "\n",
    "image = Image.open(f\"original/BOOM Graphics/Game Over.png\").convert(\"RGBA\")\n",
    "image.save(f\"image/game_over.png\")\n",
    "\n",
    "plt.imshow(image)\n",
    "plt.show()"
   ]
  },
  {
   "cell_type": "code",
   "execution_count": null,
   "id": "4d2d9819",
   "metadata": {},
   "outputs": [],
   "source": [
    "# Hurry up slider\n",
    "\n",
    "image = Image.open(f\"original/BOOM Graphics/Hurry Up.png\").convert(\"RGBA\")\n",
    "image.save(f\"image/hurry_up.png\")\n",
    "\n",
    "plt.imshow(image)\n",
    "plt.show()"
   ]
  },
  {
   "cell_type": "code",
   "execution_count": null,
   "id": "5ae7049d",
   "metadata": {},
   "outputs": [],
   "source": [
    "# Extra Game slider\n",
    "\n",
    "image = Image.open(f\"original/BOOM Graphics/EXTRA Game.png\").convert(\"RGBA\")\n",
    "image.save(f\"image/extra_game.png\")\n",
    "\n",
    "plt.imshow(image)\n",
    "plt.show()"
   ]
  },
  {
   "cell_type": "code",
   "execution_count": null,
   "id": "7981bade",
   "metadata": {},
   "outputs": [],
   "source": [
    "# Game icon\n",
    "\n",
    "image = Image.open(f\"original/BOOM.icns\").convert(\"RGBA\")\n",
    "image.save(f\"image/game_icon.png\")\n",
    "\n",
    "plt.imshow(image)\n",
    "plt.show()"
   ]
  },
  {
   "cell_type": "markdown",
   "id": "007906e4",
   "metadata": {},
   "source": [
    "### Sounds"
   ]
  },
  {
   "cell_type": "code",
   "execution_count": null,
   "id": "d3be7805",
   "metadata": {},
   "outputs": [],
   "source": [
    "def copy(path_from, path_to):\n",
    "    with open(path_from, \"rb\") as file_from:\n",
    "        with open(path_to, \"wb\") as file_to:\n",
    "            file_to.write(file_from.read())"
   ]
  },
  {
   "cell_type": "code",
   "execution_count": null,
   "id": "758a9d1b",
   "metadata": {},
   "outputs": [],
   "source": [
    "# Breakable wall\n",
    "\n",
    "copy(\"original/BOOM Sounds/BlockDestruction.wav\", \"sound/BreakableWallRemoving.wav\")"
   ]
  },
  {
   "cell_type": "code",
   "execution_count": null,
   "id": "4efc6b03",
   "metadata": {},
   "outputs": [],
   "source": [
    "# Coin\n",
    "\n",
    "copy(\"original/BOOM Sounds/Coin.wav\", \"sound/CoinRemoving.wav\")"
   ]
  },
  {
   "cell_type": "code",
   "execution_count": null,
   "id": "4a88113a",
   "metadata": {},
   "outputs": [],
   "source": [
    "# Bomb\n",
    "\n",
    "copy(\"original/BOOM Sounds/LightTheFuse.wav\", \"sound/BombSpawn.wav\")\n",
    "copy(\"original/BOOM Sounds/Explosion.wav\", \"sound/BombRemoving.wav\")"
   ]
  },
  {
   "cell_type": "code",
   "execution_count": null,
   "id": "b93481b3",
   "metadata": {},
   "outputs": [],
   "source": [
    "# Bullet\n",
    "\n",
    "bullets = [\n",
    "    (\"Shot\", \"Shot\"),\n",
    "    (\"Fireball\", \"Fireball\"),\n",
    "    (\"MGShot\", \"Pulse\"),\n",
    "    (\"Lightbolt\", \"Bolt\"),\n",
    "    (\"Flame\", \"Flame\"),\n",
    "    (\"Plasma\", \"Plasma\"),\n",
    "    (\"Magma\", \"Magma\"),\n",
    "    (\"Missile\", \"HeadShot\"),\n",
    "]\n",
    "\n",
    "for bullet_name, sound_name in bullets:\n",
    "    copy(f\"original/BOOM Sounds/{sound_name}.wav\", f\"sound/{bullet_name}Spawn.wav\")\n",
    "    copy(f\"original/BOOM Sounds/{sound_name}Hit.wav\", f\"sound/{bullet_name}Removing.wav\")"
   ]
  },
  {
   "cell_type": "code",
   "execution_count": null,
   "id": "127d79b8",
   "metadata": {},
   "outputs": [],
   "source": [
    "# Enemy\n",
    "\n",
    "for name in [\"Soldier\", \"Sarge\", \"Lizzy\", \"Taur\", \"Gunner\", \"Thing\", \"Ghost\", \"Smoulder\", \"Skully\", \"Giggler\", \"Head\"]:\n",
    "    copy(f\"original/BOOM Sounds/{name}Noise.wav\", f\"sound/{name}Noise.wav\")\n",
    "    copy(f\"original/BOOM Sounds/{name}Death.wav\", f\"sound/{name}Removing.wav\")"
   ]
  },
  {
   "cell_type": "code",
   "execution_count": null,
   "id": "177638fe",
   "metadata": {},
   "outputs": [],
   "source": [
    "# Alien\n",
    "\n",
    "copy(f\"original/BOOM Sounds/AlienDeath.wav\", f\"sound/AlienRemoving.wav\")"
   ]
  },
  {
   "cell_type": "code",
   "execution_count": null,
   "id": "f964d839",
   "metadata": {},
   "outputs": [],
   "source": [
    "# Player\n",
    "\n",
    "for id_ in (1, 2):\n",
    "    copy(f\"original/BOOM Sounds/P{id_}Ouch.wav\", f\"sound/Player{id_}Noise.wav\")\n",
    "    copy(f\"original/BOOM Sounds/P{id_}Death.wav\", f\"sound/Player{id_}Removing.wav\")\n",
    "    copy(f\"original/BOOM Sounds/P{id_}Complete.wav\", f\"sound/Player{id_}Success.wav\")"
   ]
  },
  {
   "cell_type": "code",
   "execution_count": null,
   "id": "a2156435",
   "metadata": {},
   "outputs": [],
   "source": [
    "# Flash\n",
    "\n",
    "copy(\"original/BOOM Sounds/Teleport.wav\", \"sound/FlashSpawn.wav\")"
   ]
  },
  {
   "cell_type": "code",
   "execution_count": null,
   "id": "ffd82eec",
   "metadata": {},
   "outputs": [],
   "source": [
    "# Bonus\n",
    "\n",
    "copy(\"original/BOOM Sounds/GetBonus.wav\", \"sound/BonusNoise.wav\")"
   ]
  },
  {
   "cell_type": "code",
   "execution_count": null,
   "id": "82b7ad61",
   "metadata": {},
   "outputs": [],
   "source": [
    "# Extra Letters\n",
    "\n",
    "copy(\"original/BOOM Sounds/GetLetter.wav\", \"sound/ExtraLetterNoise.wav\")"
   ]
  },
  {
   "cell_type": "code",
   "execution_count": null,
   "id": "f6e74ec1",
   "metadata": {},
   "outputs": [],
   "source": [
    "# Maze Sound\n",
    "\n",
    "copy(\"original/BOOM Sounds/GameOver.wav\", \"sound/MazeFailed.wav\")\n",
    "copy(\"original/BOOM Sounds/CompleteLevel.wav\", \"sound/MazeSolved.wav\")\n",
    "copy(\"original/BOOM Sounds/EXTRAGame.wav\", \"sound/ExtraGame.wav\")\n",
    "copy(\"original/BOOM Sounds/HurryUp.wav\", \"sound/HurryUp.wav\")"
   ]
  },
  {
   "cell_type": "markdown",
   "id": "a0285b1b",
   "metadata": {},
   "source": [
    "###  Levels and maze"
   ]
  },
  {
   "cell_type": "code",
   "execution_count": null,
   "id": "10c698de",
   "metadata": {},
   "outputs": [],
   "source": [
    "import json\n",
    "import xml.etree.ElementTree as ET\n",
    "\n",
    "import bomberman"
   ]
  },
  {
   "cell_type": "code",
   "execution_count": null,
   "id": "e653dfdc",
   "metadata": {},
   "outputs": [],
   "source": [
    "players = {\n",
    "    \"X\": 1,\n",
    "    \"Y\": 2,\n",
    "}\n",
    "\n",
    "klasses = {\n",
    "    \"1\": bomberman.model.entity.SolidWall,\n",
    "    \"2\": bomberman.model.entity.BreakableWall,\n",
    "    \"3\": bomberman.model.entity.Coin,\n",
    "    \"A\": bomberman.model.entity.Soldier,\n",
    "    \"B\": bomberman.model.entity.Sarge,\n",
    "    \"C\": bomberman.model.entity.Lizzy,\n",
    "    \"D\": bomberman.model.entity.Taur,\n",
    "    \"E\": bomberman.model.entity.Gunner,\n",
    "    \"F\": bomberman.model.entity.Thing,\n",
    "    \"G\": bomberman.model.entity.Ghost,\n",
    "    \"H\": bomberman.model.entity.Smoulder,\n",
    "    \"I\": bomberman.model.entity.Skully,\n",
    "    \"J\": bomberman.model.entity.Giggler,\n",
    "    \"*\": bomberman.model.entity.Head,  # not valid for level 80\n",
    "    \"+\": bomberman.model.entity.Teleporter,\n",
    "}\n",
    "\n",
    "undecoded = set()\n",
    "\n",
    "\n",
    "def parse_repr(maze_repr):\n",
    "    \"\"\"from original to actual\"\"\"\n",
    "    maze = bomberman.model.maze.Maze((13, 15))\n",
    "    for n, c in enumerate(maze_repr):\n",
    "        if c == \"0\":\n",
    "            continue\n",
    "        i = n // 15\n",
    "        j = n % 15\n",
    "        if c in players:\n",
    "            maze.player_spawns[players[c]] = bomberman.model.vector.Vector((float(i), float(j)))\n",
    "            continue\n",
    "\n",
    "        klass = klasses.get(c)\n",
    "        if not klass:\n",
    "            print(f\"Undecoded '{c}' at ({i}, {j})\")\n",
    "            undecoded.add(c)\n",
    "            continue\n",
    "\n",
    "        maze.add_entity(klass(maze, bomberman.model.vector.Vector((float(i), float(j)))))\n",
    "\n",
    "    return maze"
   ]
  },
  {
   "cell_type": "code",
   "execution_count": null,
   "id": "59280d4a",
   "metadata": {},
   "outputs": [],
   "source": [
    "def parse_xml(level_xml):\n",
    "    level = {}\n",
    "\n",
    "    key = None\n",
    "    for child in level_xml:\n",
    "        if child.tag == \"key\":\n",
    "            assert key is None\n",
    "            key = child.text\n",
    "        else:\n",
    "            value = child.text\n",
    "            if child.tag == \"integer\":\n",
    "                value = int(value)\n",
    "            assert key is not None\n",
    "            level[key] = value\n",
    "            key = None\n",
    "\n",
    "    return level"
   ]
  },
  {
   "cell_type": "code",
   "execution_count": null,
   "id": "d0ec2234",
   "metadata": {},
   "outputs": [],
   "source": [
    "tree = ET.parse(\"original/BOOM Levels.xml\")\n",
    "root = tree.getroot()\n",
    "levels = root.find(\"dict\").find(\"array\")\n",
    "\n",
    "game = []\n",
    "\n",
    "for i, level_xml in enumerate(levels):\n",
    "    print(\"======================\")\n",
    "    print(i)\n",
    "    level = parse_xml(level_xml)\n",
    "    meta_data = {\n",
    "        \"style\": i // 10,\n",
    "        \"maze_id\": i + 1,\n",
    "        \"time\": level[\"Time\"],\n",
    "    }\n",
    "\n",
    "    maze = parse_repr(level[\"GridDescString\"])\n",
    "    print(maze)\n",
    "    maze.save(f\"maze/{meta_data['maze_id']}.txt\")\n",
    "    game.append(meta_data)\n",
    "\n",
    "print(\"Undecoded chars:\")\n",
    "print(undecoded)\n",
    "with open(\"game/boom.json\", \"w\") as f:\n",
    "    json.dump(game, f, indent=True)"
   ]
  }
 ],
 "metadata": {
  "kernelspec": {
   "display_name": "Python 3 (ipykernel)",
   "language": "python",
   "name": "python3"
  },
  "language_info": {
   "codemirror_mode": {
    "name": "ipython",
    "version": 3
   },
   "file_extension": ".py",
   "mimetype": "text/x-python",
   "name": "python",
   "nbconvert_exporter": "python",
   "pygments_lexer": "ipython3",
   "version": "3.9.7"
  }
 },
 "nbformat": 4,
 "nbformat_minor": 5
}
