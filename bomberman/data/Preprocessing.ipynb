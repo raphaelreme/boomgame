{
 "cells": [
  {
   "cell_type": "markdown",
   "id": "2c8c32fe",
   "metadata": {},
   "source": [
    "### Preprocess tiles"
   ]
  },
  {
   "cell_type": "code",
   "execution_count": null,
   "id": "b6ed9fee",
   "metadata": {},
   "outputs": [],
   "source": [
    "import numpy as np\n",
    "from PIL import Image\n",
    "import matplotlib.pyplot as plt"
   ]
  },
  {
   "cell_type": "code",
   "execution_count": null,
   "id": "ee69ee51",
   "metadata": {},
   "outputs": [],
   "source": [
    "# Background\n",
    "\n",
    "# Some styles are ignored\n",
    "images = [Image.open(f\"original/BOOM Graphics/BGPattern 0{i+2}.png\").convert(\"RGBA\") for i in range(8)]\n",
    "image = Image.fromarray(np.vstack(images))\n",
    "image.save(\"image/background.png\")\n",
    "\n",
    "plt.imshow(image)\n",
    "plt.show()"
   ]
  },
  {
   "cell_type": "code",
   "execution_count": null,
   "id": "cda560a7",
   "metadata": {},
   "outputs": [],
   "source": [
    "# Border\n",
    "\n",
    "images = [Image.open(f\"original/BOOM Graphics/Border 0{i+1}.png\").convert(\"RGBA\") for i in range(8)]\n",
    "image = Image.fromarray(np.vstack(images))\n",
    "image.save(\"image/border.png\")\n",
    "\n",
    "plt.imshow(image)\n",
    "plt.show()"
   ]
  },
  {
   "cell_type": "code",
   "execution_count": null,
   "id": "0a70c738",
   "metadata": {},
   "outputs": [],
   "source": [
    "# Breakable\n",
    "\n",
    "image = Image.open(f\"original/BOOM Graphics/Breakable Blocks.png\").convert(\"RGBA\")\n",
    "image.save(\"image/breakable_wall.png\")\n",
    "\n",
    "plt.imshow(image)\n",
    "plt.show()"
   ]
  },
  {
   "cell_type": "code",
   "execution_count": null,
   "id": "d0888278",
   "metadata": {},
   "outputs": [],
   "source": [
    "# Solid\n",
    "\n",
    "image = Image.open(f\"original/BOOM Graphics/Fixed Blocks.png\").convert(\"RGBA\")\n",
    "image = Image.fromarray(np.vstack(np.split(np.array(image), 8, axis = 1)))\n",
    "image.save(\"image/solid_wall.png\")\n",
    "\n",
    "plt.imshow(image)\n",
    "plt.show()"
   ]
  },
  {
   "cell_type": "code",
   "execution_count": null,
   "id": "f493e370",
   "metadata": {},
   "outputs": [],
   "source": [
    "# Player\n",
    "\n",
    "void = np.array([[[255, 255, 255, 0]] * 32] * 32, dtype=np.uint8)\n",
    "\n",
    "for i in range(2):\n",
    "    image = Image.open(f\"original/BOOM Graphics/Player{i+1}.png\").convert(\"RGBA\")\n",
    "    line = np.hstack(np.split(np.array(image), 2) + [void] * 2)\n",
    "    image = Image.fromarray(np.vstack(np.split(line, 5, axis = 1)))\n",
    "    image.save(f\"image/player{i+1}.png\")\n",
    "    \n",
    "    plt.imshow(image)\n",
    "    plt.show()"
   ]
  },
  {
   "cell_type": "code",
   "execution_count": null,
   "id": "5c080cff",
   "metadata": {},
   "outputs": [],
   "source": [
    "# Bomb\n",
    "\n",
    "image = Image.open(\"original/BOOM Graphics/Bomb.png\")\n",
    "image.save(\"image/bomb.png\")\n",
    "\n",
    "plt.imshow(image)\n",
    "plt.show()"
   ]
  },
  {
   "cell_type": "code",
   "execution_count": null,
   "id": "32fb285e",
   "metadata": {},
   "outputs": [],
   "source": [
    "# Laser\n",
    "\n",
    "image = Image.open(\"original/BOOM Graphics/Explosion.png\")\n",
    "image.save(\"image/laser.png\")\n",
    "\n",
    "plt.imshow(image)\n",
    "plt.show()"
   ]
  },
  {
   "cell_type": "code",
   "execution_count": null,
   "id": "1fda9514",
   "metadata": {},
   "outputs": [],
   "source": [
    "# Enemy\n",
    "\n",
    "void = np.array([[[255, 255, 255, 0]] * 32] * 32, dtype=np.uint8)\n",
    "\n",
    "for name in [\"Soldier\", \"Sarge\", \"Lizzy\", \"Taur\", \"Gunner\", \"Thing\", \"Ghost\", \"Smoulder\", \"Skully\", \"Giggler\"]:\n",
    "    image = Image.open(f\"original/BOOM Graphics/{name}.png\").convert(\"RGBA\")\n",
    "    line = np.hstack(np.split(np.array(image), 2))\n",
    "    n = line.shape[1] // 32\n",
    "    if n%4:\n",
    "        line = np.hstack([line] + (4 - (n%4)) * [void])\n",
    "\n",
    "    image = Image.fromarray(np.vstack(np.split(line, 6, axis = 1)))\n",
    "    image.save(f\"image/{name.lower()}.png\")\n",
    "    \n",
    "    plt.imshow(image)\n",
    "    plt.show()"
   ]
  },
  {
   "cell_type": "code",
   "execution_count": null,
   "id": "fb39bf90",
   "metadata": {},
   "outputs": [],
   "source": [
    "# Panel\n",
    "\n",
    "image = Image.open(\"original/BOOM Graphics/Panel.png\")\n",
    "image.save(\"image/panel.png\")\n",
    "print(image.size, \" -> \", image.size[0] // 32, \",\", image.size[1] // 32)\n",
    "\n",
    "plt.imshow(image)\n",
    "plt.show()"
   ]
  },
  {
   "cell_type": "code",
   "execution_count": null,
   "id": "ae0d8bef",
   "metadata": {},
   "outputs": [],
   "source": [
    "# Player head\n",
    "\n",
    "for i in range(2):\n",
    "    image = Image.open(f\"original/BOOM Graphics/Player {i+1} Head.png\").convert(\"RGBA\")\n",
    "    image.save(f\"image/player_head{i+1}.png\")\n",
    "    print(image.size)\n",
    "    \n",
    "    plt.imshow(image)\n",
    "    plt.show()"
   ]
  },
  {
   "cell_type": "code",
   "execution_count": null,
   "id": "e9a71bb3",
   "metadata": {},
   "outputs": [],
   "source": [
    "# Heart\n",
    "\n",
    "image = Image.open(f\"original/BOOM Graphics/Heart Icons.png\").convert(\"RGBA\")\n",
    "np_image = np.array(image)[0:16]\n",
    "image = Image.fromarray(np.hstack((np_image[:, 0:16], np_image[:, 18:34], np_image[:, 36:52])))  # Delete weird extra space\n",
    "image.save(\"image/heart.png\")\n",
    "\n",
    "plt.imshow(image)\n",
    "plt.show()"
   ]
  },
  {
   "cell_type": "code",
   "execution_count": null,
   "id": "3e1846c4",
   "metadata": {},
   "outputs": [],
   "source": [
    "# Shield\n",
    "\n",
    "image = Image.open(f\"original/BOOM Graphics/Shield.png\").convert(\"RGBA\")\n",
    "image.save(f\"image/shield.png\")\n",
    "\n",
    "plt.imshow(image)\n",
    "plt.show()"
   ]
  },
  {
   "cell_type": "markdown",
   "id": "a0285b1b",
   "metadata": {},
   "source": [
    "###  Levels and maze"
   ]
  },
  {
   "cell_type": "code",
   "execution_count": null,
   "id": "10c698de",
   "metadata": {},
   "outputs": [],
   "source": [
    "import json\n",
    "import xml.etree.ElementTree as ET\n",
    "\n",
    "import bomberman"
   ]
  },
  {
   "cell_type": "code",
   "execution_count": null,
   "id": "e653dfdc",
   "metadata": {},
   "outputs": [],
   "source": [
    "players = {\n",
    "    \"X\": 1,\n",
    "    \"Y\": 2,\n",
    "}\n",
    "\n",
    "klasses = {\n",
    "    \"1\": bomberman.model.entity.SolidWall,\n",
    "    \"2\": bomberman.model.entity.BreakableWall,\n",
    "    \"A\": bomberman.model.entity.Soldier,\n",
    "    \"B\": bomberman.model.entity.Sarge,\n",
    "    \"C\": bomberman.model.entity.Lizzy,\n",
    "    \"D\": bomberman.model.entity.Taur,\n",
    "    \"E\": bomberman.model.entity.Gunner,\n",
    "    \"F\": bomberman.model.entity.Thing,\n",
    "    \"G\": bomberman.model.entity.Ghost,\n",
    "    \"H\": bomberman.model.entity.Smoulder,\n",
    "    \"I\": bomberman.model.entity.Skully,\n",
    "    \"J\": bomberman.model.entity.Giggler,\n",
    "}\n",
    "\n",
    "undecoded = set()\n",
    "\n",
    "\n",
    "def parse_repr(maze_repr):\n",
    "    \"\"\"from original to actual\"\"\"\n",
    "    maze = bomberman.model.maze.Maze((13, 15))\n",
    "    for n, c in enumerate(maze_repr):\n",
    "        if c == \"0\":\n",
    "            continue\n",
    "        i = n // 15\n",
    "        j = n % 15\n",
    "        if c in players:\n",
    "            maze.player_spawns[players[c]] = bomberman.model.vector.Vector((float(i), float(j)))\n",
    "            continue\n",
    "\n",
    "        klass = klasses.get(c)\n",
    "        if not klass:\n",
    "            print(f\"Undecoded '{c}' at ({i}, {j})\")\n",
    "            undecoded.add(c)\n",
    "            continue\n",
    "\n",
    "        maze.add_entity(klass(maze, bomberman.model.vector.Vector((float(i), float(j)))))\n",
    "\n",
    "    return maze"
   ]
  },
  {
   "cell_type": "code",
   "execution_count": null,
   "id": "59280d4a",
   "metadata": {},
   "outputs": [],
   "source": [
    "def parse_xml(level_xml):\n",
    "    level = {}\n",
    "\n",
    "    key = None\n",
    "    for child in level_xml:\n",
    "        if child.tag == \"key\":\n",
    "            assert key is None\n",
    "            key = child.text\n",
    "        else:\n",
    "            value = child.text\n",
    "            if child.tag == \"integer\":\n",
    "                value = int(value)\n",
    "            assert key is not None\n",
    "            level[key] = value\n",
    "            key = None\n",
    "\n",
    "    return level"
   ]
  },
  {
   "cell_type": "code",
   "execution_count": null,
   "id": "d0ec2234",
   "metadata": {},
   "outputs": [],
   "source": [
    "tree = ET.parse(\"original/BOOM Levels.xml\")\n",
    "root = tree.getroot()\n",
    "levels = root.find(\"dict\").find(\"array\")\n",
    "\n",
    "game = []\n",
    "\n",
    "for i, level_xml in enumerate(levels):\n",
    "    print(\"======================\")\n",
    "    print(i)\n",
    "    level = parse_xml(level_xml)\n",
    "    meta_data = {\n",
    "        \"style\": i // 10,\n",
    "        \"maze_id\": i + 1,\n",
    "        \"time\": level[\"Time\"],\n",
    "    }\n",
    "\n",
    "    maze = parse_repr(level[\"GridDescString\"])\n",
    "    print(maze)\n",
    "    maze.save(f\"maze/{meta_data['maze_id']}.txt\")\n",
    "    game.append(meta_data)\n",
    "    \n",
    "print(\"Undecoded chars:\")\n",
    "print(undecoded)\n",
    "with open(\"game/boom.json\", \"w\") as f:\n",
    "    json.dump(game, f, indent=True)"
   ]
  }
 ],
 "metadata": {
  "kernelspec": {
   "display_name": "Python 3 (ipykernel)",
   "language": "python",
   "name": "python3"
  },
  "language_info": {
   "codemirror_mode": {
    "name": "ipython",
    "version": 3
   },
   "file_extension": ".py",
   "mimetype": "text/x-python",
   "name": "python",
   "nbconvert_exporter": "python",
   "pygments_lexer": "ipython3",
   "version": "3.9.7"
  }
 },
 "nbformat": 4,
 "nbformat_minor": 5
}
